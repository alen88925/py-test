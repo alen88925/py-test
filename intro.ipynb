{
  "nbformat": 4,
  "nbformat_minor": 0,
  "metadata": {
    "colab": {
      "name": "intro.ipynb",
      "provenance": [],
      "collapsed_sections": [],
      "toc_visible": true,
      "authorship_tag": "ABX9TyM9c6u6HzAQf7+YXfOASU6n",
      "include_colab_link": true
    },
    "kernelspec": {
      "name": "python3",
      "display_name": "Python 3"
    },
    "language_info": {
      "name": "python"
    }
  },
  "cells": [
    {
      "cell_type": "markdown",
      "metadata": {
        "id": "view-in-github",
        "colab_type": "text"
      },
      "source": [
        "<a href=\"https://colab.research.google.com/github/alen88925/py-test/blob/main/intro.ipynb\" target=\"_parent\"><img src=\"https://colab.research.google.com/assets/colab-badge.svg\" alt=\"Open In Colab\"/></a>"
      ]
    },
    {
      "cell_type": "markdown",
      "metadata": {
        "id": "K2Z7bEd9j9RW"
      },
      "source": [
        "#Start Numpy\n",
        "\n"
      ]
    },
    {
      "cell_type": "markdown",
      "metadata": {
        "id": "drv4ZcP5jC3W"
      },
      "source": [
        "##安裝Numpy\n"
      ]
    },
    {
      "cell_type": "markdown",
      "metadata": {
        "id": "8ACf78T9jLIL"
      },
      "source": [
        "在終端機輸入指令\n",
        "pip install numpy"
      ]
    },
    {
      "cell_type": "markdown",
      "metadata": {
        "id": "GTppUIhFjCov"
      },
      "source": [
        "##載入Numpy套件\n"
      ]
    },
    {
      "cell_type": "code",
      "metadata": {
        "id": "txLdRBgBWb6w"
      },
      "source": [
        "import numpy as np"
      ],
      "execution_count": 3,
      "outputs": []
    },
    {
      "cell_type": "markdown",
      "metadata": {
        "id": "E8jhMVi7kY9e"
      },
      "source": [
        "##建立ndarray物件"
      ]
    },
    {
      "cell_type": "code",
      "metadata": {
        "colab": {
          "base_uri": "https://localhost:8080/"
        },
        "id": "ceDu4nIYkg4L",
        "outputId": "462aa274-5bb4-4552-aafc-f68b5ad654e3"
      },
      "source": [
        "result=np.array([3,4,-5])\n",
        "print(result)\n",
        "print(result.size) #數量"
      ],
      "execution_count": 32,
      "outputs": [
        {
          "output_type": "stream",
          "text": [
            "[ 3  4 -5]\n",
            "3\n"
          ],
          "name": "stdout"
        }
      ]
    },
    {
      "cell_type": "code",
      "metadata": {
        "colab": {
          "base_uri": "https://localhost:8080/"
        },
        "id": "3R6HO993Y2Lc",
        "outputId": "2f5ffea7-abe4-40c1-cdba-710237c8f707"
      },
      "source": [
        "result=np.arange(20).reshape(4,5)\n",
        "result1=np.vsplit(result,2)\n",
        "print(result1)"
      ],
      "execution_count": 29,
      "outputs": [
        {
          "output_type": "stream",
          "text": [
            "[array([[0, 1, 2, 3, 4],\n",
            "       [5, 6, 7, 8, 9]]), array([[10, 11, 12, 13, 14],\n",
            "       [15, 16, 17, 18, 19]])]\n"
          ],
          "name": "stdout"
        }
      ]
    },
    {
      "cell_type": "markdown",
      "metadata": {
        "id": "h9L8Gzr-l8Qd"
      },
      "source": [
        "# 多維陣列(ndarray) 基礎運算"
      ]
    },
    {
      "cell_type": "code",
      "metadata": {
        "id": "EMEar175mcps"
      },
      "source": [
        "data1=np.array([3,-4,5])  #1x3\n",
        "data2=np.array([2,-1,4])  #1x3\n",
        "data3=np.array([[2,4,5,3],[8,3,-1,3],[5,2,6,-1]]) #3x4"
      ],
      "execution_count": 33,
      "outputs": []
    },
    {
      "cell_type": "markdown",
      "metadata": {
        "id": "pTC6f9wNmV_n"
      },
      "source": [
        "##逐元運算(elementwise)"
      ]
    },
    {
      "cell_type": "markdown",
      "metadata": {
        "id": "LixdC_cBtWhY"
      },
      "source": [
        "針對陣列每個資料，逐一進行基本運算。\n"
      ]
    },
    {
      "cell_type": "code",
      "metadata": {
        "id": "kNTGO5H3mZmy"
      },
      "source": [
        "a1=data1+data2\n",
        "a2=data1-data2\n",
        "a3=data1*data2\n",
        "a4=data1/data2\n",
        "a5=data1>data2\n",
        "a6=data1==data2\n",
        "a7=data1<=data2\n",
        "print(a7)"
      ],
      "execution_count": null,
      "outputs": []
    },
    {
      "cell_type": "markdown",
      "metadata": {
        "id": "-zzXOCdBnm8k"
      },
      "source": [
        "##矩陣運算(matrix)"
      ]
    },
    {
      "cell_type": "markdown",
      "metadata": {
        "id": "3QkoJkmWtZLo"
      },
      "source": [
        "針對兩個多維陣列，進行矩陣運算。\n"
      ]
    },
    {
      "cell_type": "code",
      "metadata": {
        "colab": {
          "base_uri": "https://localhost:8080/"
        },
        "id": "GwcenuYBnpbU",
        "outputId": "dea7ac2c-94e9-453e-b507-0caa99c6cebb"
      },
      "source": [
        "b1=data1.dot(data3)     #內積 1x4\n",
        "b2=data1@data3       #內積 1x4\n",
        "b3=np.outer(data1,data3)  #外積 3x12\n",
        "print(b3)"
      ],
      "execution_count": 36,
      "outputs": [
        {
          "output_type": "stream",
          "text": [
            "[[  6  12  15   9  24   9  -3   9  15   6  18  -3]\n",
            " [ -8 -16 -20 -12 -32 -12   4 -12 -20  -8 -24   4]\n",
            " [ 10  20  25  15  40  15  -5  15  25  10  30  -5]]\n"
          ],
          "name": "stdout"
        }
      ]
    },
    {
      "cell_type": "markdown",
      "metadata": {
        "id": "_X06XLuYoo2s"
      },
      "source": [
        "##統計運算(statistics)\n"
      ]
    },
    {
      "cell_type": "markdown",
      "metadata": {
        "id": "OfRb_grttcog"
      },
      "source": [
        "針對單一陣列，進行統計運算。\n"
      ]
    },
    {
      "cell_type": "code",
      "metadata": {
        "colab": {
          "base_uri": "https://localhost:8080/"
        },
        "id": "7TfvUA9sorwz",
        "outputId": "1d4d439b-f3fc-45cd-aeb7-ababa8707db0"
      },
      "source": [
        "#統計運算的函式中，都可以加入axis來進行不同維度的運算。\n",
        "c1=data3.sum()\n",
        "c2=data3.sum(axis=0)  #Column 第一維度\n",
        "c3=data3.sum(axis=1)  #Row 第二維度\n",
        "c4=data3.min()\n",
        "c5=data3.max()\n",
        "c6=data3.cumsum()\n",
        "c7=data3.mean()\n",
        "c8=data3.std(axis=0)\n",
        "print(c8)"
      ],
      "execution_count": 45,
      "outputs": [
        {
          "output_type": "stream",
          "text": [
            "[2.44948974 0.81649658 3.09120617 1.88561808]\n"
          ],
          "name": "stdout"
        }
      ]
    },
    {
      "cell_type": "markdown",
      "metadata": {
        "id": "SjBzVICrtCVZ"
      },
      "source": [
        "# 多維陣列的索引(Index) & 切片(Slicing)"
      ]
    },
    {
      "cell_type": "code",
      "metadata": {
        "id": "e6sIDgb8uEgY"
      },
      "source": [
        "data4=np.array([\n",
        "  [\n",
        "   [2,4,3],[3,-1,1]\n",
        "  ],\n",
        "  [\n",
        "   [8,3,2],[-1,3,-4]\n",
        "  ],\n",
        "  [\n",
        "   [5,2,-2],[6,-1,-6]\n",
        "  ]\n",
        "]) #3x2x3"
      ],
      "execution_count": 51,
      "outputs": []
    },
    {
      "cell_type": "markdown",
      "metadata": {
        "id": "DpFxbYADtoB4"
      },
      "source": [
        "##索引(Index)"
      ]
    },
    {
      "cell_type": "markdown",
      "metadata": {
        "id": "8G8xrUuSt26J"
      },
      "source": [
        "每個資料都有一個索引(編號)，從0開始遞增。"
      ]
    },
    {
      "cell_type": "code",
      "metadata": {
        "colab": {
          "base_uri": "https://localhost:8080/"
        },
        "id": "xOH7qO6xttdB",
        "outputId": "2a299e8a-ee3d-40f7-cca0-da560682986a"
      },
      "source": [
        "i1=data4[0,0,1]\n",
        "print(i1)"
      ],
      "execution_count": 56,
      "outputs": [
        {
          "output_type": "stream",
          "text": [
            "4\n"
          ],
          "name": "stdout"
        }
      ]
    },
    {
      "cell_type": "markdown",
      "metadata": {
        "id": "W-6dpyXNtuCo"
      },
      "source": [
        "##切片(Slicing)"
      ]
    },
    {
      "cell_type": "markdown",
      "metadata": {
        "id": "EEropj17vAAQ"
      },
      "source": [
        "以下語法取得特定陣列資料: 多維陣列**[開始索引 ：結束索引-1]**"
      ]
    },
    {
      "cell_type": "code",
      "metadata": {
        "colab": {
          "base_uri": "https://localhost:8080/"
        },
        "id": "L_rofK22tyCf",
        "outputId": "0c616aa5-6d35-4b32-e729-5ca87468e147"
      },
      "source": [
        "#(...)&(:) 代表全都要\n",
        "s1=data4[1:,...,:2]\n",
        "s2=data4[1:,:,:2]\n",
        "print(s1)\n",
        "print(s2)"
      ],
      "execution_count": 59,
      "outputs": [
        {
          "output_type": "stream",
          "text": [
            "[[[ 8  3]\n",
            "  [-1  3]]\n",
            "\n",
            " [[ 5  2]\n",
            "  [ 6 -1]]]\n",
            "[[[ 8  3]\n",
            "  [-1  3]]\n",
            "\n",
            " [[ 5  2]\n",
            "  [ 6 -1]]]\n"
          ],
          "name": "stdout"
        }
      ]
    },
    {
      "cell_type": "markdown",
      "metadata": {
        "id": "WBkKngu6xJOf"
      },
      "source": [
        "# 多維陣列的合併(Stacking) & 切割(Splitting)"
      ]
    },
    {
      "cell_type": "code",
      "metadata": {
        "id": "aPlqRcoSxSyf"
      },
      "source": [
        "data5=np.array([\n",
        "  [2,4,5,3],\n",
        "  [8,3,-1,3],\n",
        "  [5,2,6,-1]\n",
        "]) #3x4\n",
        "data6=np.array([\n",
        "  [8,3,-1,-3],\n",
        "  [7,2,-5,3],\n",
        "  [3,1,6,1]\n",
        "]) #3x4"
      ],
      "execution_count": 61,
      "outputs": []
    },
    {
      "cell_type": "markdown",
      "metadata": {
        "id": "NytFDN6zxxrJ"
      },
      "source": [
        "## 合併(Stacking)"
      ]
    },
    {
      "cell_type": "markdown",
      "metadata": {
        "id": "jZG7HgcV0dtu"
      },
      "source": [
        "將數個多維陣列，合併成一個。"
      ]
    },
    {
      "cell_type": "code",
      "metadata": {
        "colab": {
          "base_uri": "https://localhost:8080/"
        },
        "id": "lqCMqxrAyWlB",
        "outputId": "451709a0-e64b-452b-9c70-4becaaac6056"
      },
      "source": [
        "s1=np.vstack((data5,data6)) #第一維度\n",
        "s2=np.hstack((data5,data6)) #第二維度\n",
        "print(s1)\n",
        "print(s2)"
      ],
      "execution_count": 64,
      "outputs": [
        {
          "output_type": "stream",
          "text": [
            "[[ 2  4  5  3]\n",
            " [ 8  3 -1  3]\n",
            " [ 5  2  6 -1]\n",
            " [ 8  3 -1 -3]\n",
            " [ 7  2 -5  3]\n",
            " [ 3  1  6  1]]\n",
            "[[ 2  4  5  3  8  3 -1 -3]\n",
            " [ 8  3 -1  3  7  2 -5  3]\n",
            " [ 5  2  6 -1  3  1  6  1]]\n"
          ],
          "name": "stdout"
        }
      ]
    },
    {
      "cell_type": "markdown",
      "metadata": {
        "id": "-Oo3YTsIzUiI"
      },
      "source": [
        "## 切割(Splitting)"
      ]
    },
    {
      "cell_type": "markdown",
      "metadata": {
        "id": "pHGZJdnn0i9d"
      },
      "source": [
        "將一個多維陣列，分割成數個。"
      ]
    },
    {
      "cell_type": "code",
      "metadata": {
        "colab": {
          "base_uri": "https://localhost:8080/"
        },
        "id": "-nPGRBPUzZqN",
        "outputId": "4864b402-97fb-4558-8816-6cbaf86df1d3"
      },
      "source": [
        "s3=np.vsplit(data5,3) #第一維度\n",
        "s4=np.hsplit(data5,2) #第二維度\n",
        "print(s3)\n",
        "print(s4)"
      ],
      "execution_count": 67,
      "outputs": [
        {
          "output_type": "stream",
          "text": [
            "[array([[2, 4, 5, 3]]), array([[ 8,  3, -1,  3]]), array([[ 5,  2,  6, -1]])]\n",
            "[array([[2, 4],\n",
            "       [8, 3],\n",
            "       [5, 2]]), array([[ 5,  3],\n",
            "       [-1,  3],\n",
            "       [ 6, -1]])]\n"
          ],
          "name": "stdout"
        }
      ]
    }
  ]
}