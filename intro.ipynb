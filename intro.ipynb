{
  "nbformat": 4,
  "nbformat_minor": 0,
  "metadata": {
    "colab": {
      "name": "intro.ipynb",
      "provenance": [],
      "collapsed_sections": [],
      "toc_visible": true,
      "authorship_tag": "ABX9TyOP0PFjBPtlFY/gcxvomhqr",
      "include_colab_link": true
    },
    "kernelspec": {
      "name": "python3",
      "display_name": "Python 3"
    },
    "language_info": {
      "name": "python"
    }
  },
  "cells": [
    {
      "cell_type": "markdown",
      "metadata": {
        "id": "view-in-github",
        "colab_type": "text"
      },
      "source": [
        "<a href=\"https://colab.research.google.com/github/alen88925/py-test/blob/main/intro.ipynb\" target=\"_parent\"><img src=\"https://colab.research.google.com/assets/colab-badge.svg\" alt=\"Open In Colab\"/></a>"
      ]
    },
    {
      "cell_type": "markdown",
      "metadata": {
        "id": "J5d87rYZwoXR"
      },
      "source": [
        "#Numpy"
      ]
    },
    {
      "cell_type": "markdown",
      "metadata": {
        "id": "G4BWEMUDxOQ_"
      },
      "source": [
        "##What is Numpy?"
      ]
    },
    {
      "cell_type": "markdown",
      "metadata": {
        "id": "q4d4ZAVswwm4"
      },
      "source": [
        "是**資料科學**與**機器學習**的基礎\n",
        "\n",
        "是Python的一個第三方套件"
      ]
    },
    {
      "cell_type": "markdown",
      "metadata": {
        "id": "55fpQq5CyqG3"
      },
      "source": [
        "##用途"
      ]
    },
    {
      "cell_type": "markdown",
      "metadata": {
        "id": "dOFjdXqfyr5P"
      },
      "source": [
        "1. **資料處理**的套件 -> Pandas\n",
        "2. **機器學習**的套件 -> TensorFlow"
      ]
    },
    {
      "cell_type": "markdown",
      "metadata": {
        "id": "GfIgndR4xYBf"
      },
      "source": [
        "##Numpy 好處"
      ]
    },
    {
      "cell_type": "markdown",
      "metadata": {
        "id": "6EnCwvqSxcXX"
      },
      "source": [
        "用**陣列(ndarray)**代替Python原生的列表(List)處理資料\n",
        "\n",
        "適合處理**多維度(N-dimension)**的資料"
      ]
    },
    {
      "cell_type": "markdown",
      "metadata": {
        "id": "LzzY7Y4RyC0n"
      },
      "source": [
        "##WHY 陣列運算遠高於列表?"
      ]
    },
    {
      "cell_type": "markdown",
      "metadata": {
        "id": "WazBAQj8zIMm"
      },
      "source": [
        "1. 核心用C/C++來實作\n",
        "2. ndarray儲存元素時内存可以連續；List就只能通过循址找下一個元素\n",
        "3. ndarray支持並行運算\n"
      ]
    },
    {
      "cell_type": "markdown",
      "metadata": {
        "id": "NC1vq01U6V9r"
      },
      "source": [
        "![Numpy vs List](https://img-blog.csdnimg.cn/20190902100831489.png?x-oss-process=image/watermark,type_ZmFuZ3poZW5naGVpdGk,shadow_10,text_aHR0cHM6Ly9ibG9nLmNzZG4ubmV0L3h1ZWJpbmRpbmc=,size_16,color_FFFFFF,t_70)"
      ]
    },
    {
      "cell_type": "markdown",
      "metadata": {
        "id": "K2Z7bEd9j9RW"
      },
      "source": [
        "#Start Numpy\n",
        "\n"
      ]
    },
    {
      "cell_type": "markdown",
      "metadata": {
        "id": "drv4ZcP5jC3W"
      },
      "source": [
        "##安裝Numpy\n"
      ]
    },
    {
      "cell_type": "markdown",
      "metadata": {
        "id": "8ACf78T9jLIL"
      },
      "source": [
        "在終端機輸入指令\n",
        "pip install numpy"
      ]
    },
    {
      "cell_type": "markdown",
      "metadata": {
        "id": "GTppUIhFjCov"
      },
      "source": [
        "##載入Numpy套件\n"
      ]
    },
    {
      "cell_type": "code",
      "metadata": {
        "id": "txLdRBgBWb6w"
      },
      "source": [
        "import numpy as np"
      ],
      "execution_count": 2,
      "outputs": []
    },
    {
      "cell_type": "markdown",
      "metadata": {
        "id": "uf519-4i-BDB"
      },
      "source": [
        "##名詞解釋\n"
      ]
    },
    {
      "cell_type": "markdown",
      "metadata": {
        "id": "E-hc3Xwo-Dz4"
      },
      "source": [
        "vector(向量) -> 一維陣列\n",
        "\n",
        "matrix(矩陣) -> 二維陣列(以上)\n",
        "\n",
        "axis -> 軸向 (第一維度=>axis=0)\n",
        "\n",
        "dimension -> 陣列的維度 (二維陣列=>two-dimensional array)\n",
        "\n",
        "shape -> 維度的大小 ( (2x2)=>(2,2) )\n",
        "\n",
        "dtype -> 資料類型 (float64,int8)\n",
        "\n",
        "size -> 資料總數量\n"
      ]
    },
    {
      "cell_type": "markdown",
      "metadata": {
        "id": "E8jhMVi7kY9e"
      },
      "source": [
        "##建立ndarray物件"
      ]
    },
    {
      "cell_type": "markdown",
      "metadata": {
        "id": "DYvKOfiF8nzq"
      },
      "source": [
        "ndarray是一個可以裝載**相同類型**資料的**多維度**容器。"
      ]
    },
    {
      "cell_type": "markdown",
      "metadata": {
        "id": "RZ_U3M4Z1Rte"
      },
      "source": [
        "![ndarray](https://miro.medium.com/max/3000/0*oh7hF_yEMu8Phmpj.png)"
      ]
    },
    {
      "cell_type": "code",
      "metadata": {
        "colab": {
          "base_uri": "https://localhost:8080/"
        },
        "id": "ceDu4nIYkg4L",
        "outputId": "4869d0b6-bdc1-4b25-ab62-fbde70215e8d"
      },
      "source": [
        "#基本建立\n",
        "result=np.array([3,4,-5])\n",
        "\n",
        "#未指定初始值的陣列\n",
        "result1=np.empty([3,4,5])   #出現任何數皆有可能\n",
        "\n",
        "#有初始值的陣列\n",
        "r1=np.zeros([2,3])      # 建立一個2x3全為0的陣列\n",
        "r2=np.ones([2,3,4])      # 建立一個2x3x4全為1的陣列\n",
        "r3=np.arange(1,10,2)     # 建立一個由1開始，不超過10，間隔值為2的均勻數值陣列 (1+2...)<10\n",
        "r4=np.linspace(0,10,5)    # 建立一個0到10之間，均勻的5個數值陣列 (0+10)/(5-1)\n",
        "r5=np.full((3,2),8)      # 建立一個3x2全為8的陣列\n",
        "r6=np.eye(4)         # 建立一個4x4矩陣，對角線為1，其餘為0\n",
        "r7=np.random.random((2,3))  # 建立一個2x3的隨機值矩陣\n",
        "r8=r7.astype(int)       # 轉換資料型態\n",
        "\n",
        "print(r6.size)  #數量\n",
        "print(r6.shape)  #形狀 (幾乘幾的陣列)\n",
        "print(r8.dtype)  #資料型態\n",
        "print(len(r8))  #長度 (若無指定維度則為第一維度(axis=0))\n",
        "print(r7.ndim)  #陣列的維度"
      ],
      "execution_count": 33,
      "outputs": [
        {
          "output_type": "stream",
          "text": [
            "[[[4.63949434e-310 0.00000000e+000 0.00000000e+000 0.00000000e+000\n",
            "   0.00000000e+000]\n",
            "  [0.00000000e+000 0.00000000e+000 0.00000000e+000 0.00000000e+000\n",
            "   0.00000000e+000]\n",
            "  [0.00000000e+000 0.00000000e+000 0.00000000e+000 0.00000000e+000\n",
            "   0.00000000e+000]\n",
            "  [0.00000000e+000 0.00000000e+000 0.00000000e+000 0.00000000e+000\n",
            "   0.00000000e+000]]\n",
            "\n",
            " [[0.00000000e+000 0.00000000e+000 0.00000000e+000 0.00000000e+000\n",
            "   0.00000000e+000]\n",
            "  [0.00000000e+000 0.00000000e+000 0.00000000e+000 0.00000000e+000\n",
            "   0.00000000e+000]\n",
            "  [0.00000000e+000 0.00000000e+000 0.00000000e+000 0.00000000e+000\n",
            "   0.00000000e+000]\n",
            "  [0.00000000e+000 0.00000000e+000 0.00000000e+000 0.00000000e+000\n",
            "   0.00000000e+000]]\n",
            "\n",
            " [[0.00000000e+000 0.00000000e+000 0.00000000e+000 0.00000000e+000\n",
            "   0.00000000e+000]\n",
            "  [0.00000000e+000 0.00000000e+000 0.00000000e+000 0.00000000e+000\n",
            "   0.00000000e+000]\n",
            "  [0.00000000e+000 0.00000000e+000 0.00000000e+000 0.00000000e+000\n",
            "   0.00000000e+000]\n",
            "  [0.00000000e+000 0.00000000e+000 0.00000000e+000 0.00000000e+000\n",
            "   0.00000000e+000]]]\n",
            "16\n",
            "(4, 4)\n",
            "int64\n",
            "2\n",
            "2\n"
          ],
          "name": "stdout"
        }
      ]
    },
    {
      "cell_type": "markdown",
      "metadata": {
        "id": "6m2Raa847VkM"
      },
      "source": [
        "## Data Types"
      ]
    },
    {
      "cell_type": "markdown",
      "metadata": {
        "id": "jFSM7I-R7YzS"
      },
      "source": [
        "NumPy支援的數字類型比Python更多。\n",
        "\n",
        "![data type](https://miro.medium.com/max/875/0*iISwXpti0yoko803.png)"
      ]
    },
    {
      "cell_type": "markdown",
      "metadata": {
        "id": "h9L8Gzr-l8Qd"
      },
      "source": [
        "# 多維陣列(ndarray) 基礎運算"
      ]
    },
    {
      "cell_type": "markdown",
      "metadata": {
        "id": "bh3bqmrsPMiO"
      },
      "source": [
        ""
      ]
    },
    {
      "cell_type": "code",
      "metadata": {
        "id": "EMEar175mcps"
      },
      "source": [
        "data1=np.array([3,-4,5])  #1x3\n",
        "data2=np.array([2,10,4])  #1x3\n",
        "data3=np.array([[2,4,5,3],[8,3,-1,3],[5,2,6,-1]]) #3x4"
      ],
      "execution_count": 37,
      "outputs": []
    },
    {
      "cell_type": "markdown",
      "metadata": {
        "id": "pTC6f9wNmV_n"
      },
      "source": [
        "##逐元運算(element-wise)"
      ]
    },
    {
      "cell_type": "markdown",
      "metadata": {
        "id": "LixdC_cBtWhY"
      },
      "source": [
        "針對陣列每個資料(元素)，逐一進行基本運算。\n"
      ]
    },
    {
      "cell_type": "code",
      "metadata": {
        "id": "kNTGO5H3mZmy",
        "colab": {
          "base_uri": "https://localhost:8080/"
        },
        "outputId": "f5f935a2-1a29-495b-97db-79b71edff1b4"
      },
      "source": [
        "# +\n",
        "a1=data1+data2\n",
        "a1=np.add(data1,data2)\n",
        "# -\n",
        "a2=data1-data2\n",
        "a2=np.subtract(data1,data2)\n",
        "# *\n",
        "a3=data1*data2\n",
        "a3=np.multiply(data1,data2)\n",
        "# /\n",
        "a4=data1/data2\n",
        "a4=np.divide(data1,data2)\n",
        "# 平方根 & sin & cos & log\n",
        "a5=np.sqrt(data2)\n",
        "a6=np.sin(data2)\n",
        "a7=np.cos(data2)\n",
        "a8=np.log(data2)\n",
        "\n",
        "# element-wise (各元素比較)\n",
        "a9=data1>data2\n",
        "a10=data1==data2\n",
        "a11=data1<=data2\n",
        "# array-wise  (陣列比較=>形狀&元素值)\n",
        "a12=np.array_equal(data1,data2) #same shape and value => True\n",
        "\n",
        "print(a5)"
      ],
      "execution_count": 62,
      "outputs": [
        {
          "output_type": "stream",
          "text": [
            "[1.41421356 3.16227766 2.        ]\n"
          ],
          "name": "stdout"
        }
      ]
    },
    {
      "cell_type": "markdown",
      "metadata": {
        "id": "-zzXOCdBnm8k"
      },
      "source": [
        "##矩陣運算(matrix)"
      ]
    },
    {
      "cell_type": "markdown",
      "metadata": {
        "id": "3QkoJkmWtZLo"
      },
      "source": [
        "針對兩個多維陣列，進行矩陣運算。\n"
      ]
    },
    {
      "cell_type": "code",
      "metadata": {
        "colab": {
          "base_uri": "https://localhost:8080/"
        },
        "id": "GwcenuYBnpbU",
        "outputId": "dea7ac2c-94e9-453e-b507-0caa99c6cebb"
      },
      "source": [
        "b1=data1.dot(data3)     #內積 1x4\n",
        "b2=data1@data3       #內積 1x4\n",
        "b3=np.outer(data1,data3)  #外積 3x12\n",
        "print(b3)"
      ],
      "execution_count": null,
      "outputs": [
        {
          "output_type": "stream",
          "text": [
            "[[  6  12  15   9  24   9  -3   9  15   6  18  -3]\n",
            " [ -8 -16 -20 -12 -32 -12   4 -12 -20  -8 -24   4]\n",
            " [ 10  20  25  15  40  15  -5  15  25  10  30  -5]]\n"
          ],
          "name": "stdout"
        }
      ]
    },
    {
      "cell_type": "markdown",
      "metadata": {
        "id": "_X06XLuYoo2s"
      },
      "source": [
        "##統計運算(statistics)\n"
      ]
    },
    {
      "cell_type": "markdown",
      "metadata": {
        "id": "OfRb_grttcog"
      },
      "source": [
        "又稱**聚合函數**(Aggregate Functions)\n",
        "\n",
        "針對單一陣列，進行統計運算。\n"
      ]
    },
    {
      "cell_type": "code",
      "metadata": {
        "colab": {
          "base_uri": "https://localhost:8080/"
        },
        "id": "7TfvUA9sorwz",
        "outputId": "d40ade68-98ff-466e-a83c-d175d65d7a9a"
      },
      "source": [
        "#統計運算的函式中，都可以加入axis來進行不同維度的運算。\n",
        "c1=data3.sum()\n",
        "c2=data3.sum(axis=0)  #Column 第一維度\n",
        "c3=data3.sum(axis=1)  #Row 第二維度\n",
        "c4=data3.max()     #最大值\n",
        "c5=data3.min()     #最小值\n",
        "c6=np.median(data3)   #中位數\n",
        "c7=data3.cumsum()    #逐一加法\n",
        "\n",
        "#平均數\n",
        "c8=data3.mean()    \n",
        "c8=np.mean(data3)\n",
        "\n",
        "#標準差\n",
        "c9=data3.std(axis=0) \n",
        "c9=np.std(data3)\n",
        "\n",
        "print(c8)"
      ],
      "execution_count": 46,
      "outputs": [
        {
          "output_type": "stream",
          "text": [
            "3.25\n"
          ],
          "name": "stdout"
        }
      ]
    },
    {
      "cell_type": "markdown",
      "metadata": {
        "id": "uumdIEpuI3Sr"
      },
      "source": [
        "# 多維陣列的排序(Sorting) & 複製(Copy)"
      ]
    },
    {
      "cell_type": "code",
      "metadata": {
        "colab": {
          "base_uri": "https://localhost:8080/"
        },
        "id": "Lz3zDkPEJLiq",
        "outputId": "c827f559-85bf-4f58-ddf4-611158c765ce"
      },
      "source": [
        "data=np.array([[2,4,5,3],[8,3,-1,3],[5,2,6,-1]]) #3x4\n",
        "\n",
        "#Sorting\n",
        "so=np.sort(data)\n",
        "print(so)\n",
        "\n",
        "#Copy\n",
        "so1=np.copy(data)\n",
        "print(so1)"
      ],
      "execution_count": 49,
      "outputs": [
        {
          "output_type": "stream",
          "text": [
            "[[ 2  3  4  5]\n",
            " [-1  3  3  8]\n",
            " [-1  2  5  6]]\n",
            "[[ 2  4  5  3]\n",
            " [ 8  3 -1  3]\n",
            " [ 5  2  6 -1]]\n",
            "[ 2 -1  2 -1]\n"
          ],
          "name": "stdout"
        }
      ]
    },
    {
      "cell_type": "markdown",
      "metadata": {
        "id": "SjBzVICrtCVZ"
      },
      "source": [
        "# 多維陣列的索引(Index) & 切片(Slicing)"
      ]
    },
    {
      "cell_type": "code",
      "metadata": {
        "id": "e6sIDgb8uEgY"
      },
      "source": [
        "data4=np.array([\n",
        "  [\n",
        "   [2,4,3],[3,-1,1]\n",
        "  ],\n",
        "  [\n",
        "   [8,3,2],[-1,3,-4]\n",
        "  ],\n",
        "  [\n",
        "   [5,2,-2],[6,-1,-6]\n",
        "  ]\n",
        "]) #3x2x3"
      ],
      "execution_count": 51,
      "outputs": []
    },
    {
      "cell_type": "markdown",
      "metadata": {
        "id": "DpFxbYADtoB4"
      },
      "source": [
        "##索引(Index) - Boolean & Fancy Indexing"
      ]
    },
    {
      "cell_type": "markdown",
      "metadata": {
        "id": "8G8xrUuSt26J"
      },
      "source": [
        "每個資料都有一個索引(編號)，從0開始遞增。"
      ]
    },
    {
      "cell_type": "code",
      "metadata": {
        "colab": {
          "base_uri": "https://localhost:8080/"
        },
        "id": "xOH7qO6xttdB",
        "outputId": "aeccc108-afec-4ecb-b6fa-7b068b66651f"
      },
      "source": [
        "i1=data4[0,0,1]\n",
        "print(i1)\n",
        "\n",
        "#Boolean Indexing\n",
        "i2=data4[data4<2]\n",
        "print(i2)\n",
        "\n",
        "#Fancy Indexing\n",
        "i3=data4[[2,1,2],[0,1,1],[2,1,0]]   #[2,0,2]=-2, [1,1,1]=3, [2,1,0]=6\n",
        "print(i3)"
      ],
      "execution_count": 58,
      "outputs": [
        {
          "output_type": "stream",
          "text": [
            "4\n",
            "[-1  1 -1 -4 -2 -1 -6]\n",
            "[-2  3  6]\n"
          ],
          "name": "stdout"
        }
      ]
    },
    {
      "cell_type": "markdown",
      "metadata": {
        "id": "W-6dpyXNtuCo"
      },
      "source": [
        "##切片(Slicing)"
      ]
    },
    {
      "cell_type": "markdown",
      "metadata": {
        "id": "EEropj17vAAQ"
      },
      "source": [
        "以下語法取得特定陣列資料: 多維陣列**[開始索引 ：結束索引-1]**"
      ]
    },
    {
      "cell_type": "code",
      "metadata": {
        "colab": {
          "base_uri": "https://localhost:8080/"
        },
        "id": "L_rofK22tyCf",
        "outputId": "0c616aa5-6d35-4b32-e729-5ca87468e147"
      },
      "source": [
        "#(...)&(:) 代表全都要\n",
        "s1=data4[1:,...,:2]\n",
        "s2=data4[1:,:,:2]\n",
        "print(s1)\n",
        "print(s2)"
      ],
      "execution_count": null,
      "outputs": [
        {
          "output_type": "stream",
          "text": [
            "[[[ 8  3]\n",
            "  [-1  3]]\n",
            "\n",
            " [[ 5  2]\n",
            "  [ 6 -1]]]\n",
            "[[[ 8  3]\n",
            "  [-1  3]]\n",
            "\n",
            " [[ 5  2]\n",
            "  [ 6 -1]]]\n"
          ],
          "name": "stdout"
        }
      ]
    },
    {
      "cell_type": "markdown",
      "metadata": {
        "id": "yEkEYVjcOIUH"
      },
      "source": [
        "#多維陣列的翻轉(Transpose)與變形(Reshape)"
      ]
    },
    {
      "cell_type": "code",
      "metadata": {
        "id": "aPlqRcoSxSyf"
      },
      "source": [
        "data5=np.array([\n",
        "  [2,4,5,3],\n",
        "  [8,3,-1,3],\n",
        "  [5,2,6,-1]\n",
        "]) #3x4\n",
        "data6=np.array([\n",
        "  [8,3,-1,-3],\n",
        "  [7,2,-5,3],\n",
        "  [3,1,6,1]\n",
        "]) #3x4"
      ],
      "execution_count": 146,
      "outputs": []
    },
    {
      "cell_type": "markdown",
      "metadata": {
        "id": "ZWS7txRfMqBH"
      },
      "source": [
        "##翻轉陣列(Transposing array)"
      ]
    },
    {
      "cell_type": "markdown",
      "metadata": {
        "id": "P2Q5abCeNK6I"
      },
      "source": [
        "Row & Column 互換\n",
        "\n",
        "![transpose](https://miro.medium.com/max/875/0*_75N7sAckdBHQFGq.png)"
      ]
    },
    {
      "cell_type": "code",
      "metadata": {
        "colab": {
          "base_uri": "https://localhost:8080/"
        },
        "id": "fxIhOREWMzSt",
        "outputId": "c8dd27e1-8ffd-4aec-c4a0-3b2b5fdd0936"
      },
      "source": [
        "t1=data5.T\n",
        "t2=np.transpose(data5)\n",
        "\n",
        "print(t1)"
      ],
      "execution_count": 61,
      "outputs": [
        {
          "output_type": "stream",
          "text": [
            "[[ 2  8  5]\n",
            " [ 4  3  2]\n",
            " [ 5 -1  6]\n",
            " [ 3  3 -1]]\n",
            "[[ 2  8  5]\n",
            " [ 4  3  2]\n",
            " [ 5 -1  6]\n",
            " [ 3  3 -1]]\n"
          ],
          "name": "stdout"
        }
      ]
    },
    {
      "cell_type": "markdown",
      "metadata": {
        "id": "JlJjxx7aNh8A"
      },
      "source": [
        "##改變陣列的形狀(Reshape & Ravel & Resize)"
      ]
    },
    {
      "cell_type": "markdown",
      "metadata": {
        "id": "cknxm6qqUq_E"
      },
      "source": [
        "**Reshape & Resize 的差異**：\n",
        "前者生成的新陣列和原始陣列是共用一個記憶體，所以雙方更改的元素會互相影響；後者則不共用，因此不會互相影響。\n",
        "\n",
        "**Reshape：**生成的新陣列和原始陣列是共用一個記憶體的，有點類似於 Python 裡面的 shallow copy，當你改變一個陣列的元素，另外一個陣列的元素也相應的改變，形狀則不會隨著改變。\n",
        "\n",
        "**Resize：**生成的新陣列跟原陣列並不共用一個記憶體，所以彼此元素的改變不會影響到對方。\n",
        "\n",
        "**Resize的總資料數可以跟原陣列不同。**"
      ]
    },
    {
      "cell_type": "code",
      "metadata": {
        "colab": {
          "base_uri": "https://localhost:8080/"
        },
        "id": "AHKTO46IPmr_",
        "outputId": "7475dc1f-67a7-4911-a05f-a62d24afa018"
      },
      "source": [
        "tere=np.array([0,1,2,3,4,5,6,7,8,9,10,11])\n",
        "tere1=np.array([0,1,2,3,4,5,6,7,8,9,10,11])\n",
        "#重塑\n",
        "re1=tere1.reshape(2,3,2)\n",
        "re1[0,0,0]=10\n",
        "re2=np.reshape(tere,(2,3,2),order='C') # 按行填充\n",
        "re3=np.reshape(tere,(2,3,2),order='F') # 按列填充\n",
        "re2[0,0,0]=10\n",
        "\n",
        "re4=np.resize(tere1,(2,3,3))      # Numpy.resize如超出大小，會重複填值\n",
        "re4[0,0,0]=1\n",
        "tere1.resize((2,3,3),refcheck=False)  # ndarray.resize如超出大小，會填0 ; refcheck=False，資料總數可以不同 ; return = none\n",
        "\n",
        "#扁平化\n",
        "re6=data5.ravel()\n",
        "\n",
        "print(re1)\n",
        "print(tere1)\n",
        "print(re4)\n",
        "print(data5)"
      ],
      "execution_count": 147,
      "outputs": [
        {
          "output_type": "stream",
          "text": [
            "[[[93904405153184              1]\n",
            "  [             2              3]\n",
            "  [             4              5]]\n",
            "\n",
            " [[             6              7]\n",
            "  [             8              9]\n",
            "  [            10             11]]]\n",
            "[[[10  1  2]\n",
            "  [ 3  4  5]\n",
            "  [ 6  7  8]]\n",
            "\n",
            " [[ 9 10 11]\n",
            "  [ 0  0  0]\n",
            "  [ 0  0  0]]]\n",
            "[[[ 1  1  2]\n",
            "  [ 3  4  5]\n",
            "  [ 6  7  8]]\n",
            "\n",
            " [[ 9 10 11]\n",
            "  [10  1  2]\n",
            "  [ 3  4  5]]]\n",
            "[[ 2  4  5  3]\n",
            " [ 8  3 -1  3]\n",
            " [ 5  2  6 -1]]\n"
          ],
          "name": "stdout"
        }
      ]
    },
    {
      "cell_type": "markdown",
      "metadata": {
        "id": "WwG_KhMYOZju"
      },
      "source": [
        "# 多維陣列的合併(Stacking) & 切割(Splitting)"
      ]
    },
    {
      "cell_type": "markdown",
      "metadata": {
        "id": "NytFDN6zxxrJ"
      },
      "source": [
        "## 合併(Stacking)"
      ]
    },
    {
      "cell_type": "markdown",
      "metadata": {
        "id": "4GlaYG-lQaem"
      },
      "source": [
        "### 新增, 插入, 刪除資料(元素)"
      ]
    },
    {
      "cell_type": "code",
      "metadata": {
        "colab": {
          "base_uri": "https://localhost:8080/"
        },
        "id": "zbyYZozkQnc-",
        "outputId": "7db0a1ac-bc00-4f30-e943-96157d67b4da"
      },
      "source": [
        "#陣列後加資料(元素)\n",
        "ap1=np.append(data5,[[7],[2],[1]],axis=1)  # append(array, value, axis) 若無指定axis，則多維陣列會扁平化ap1(12)\n",
        "ap2=np.append(data5,[[7,2,1,2]],axis=0)\n",
        "\n",
        "#陣列中插入資料(元素)\n",
        "ap3=np.insert(data5,1,0,1) # insert(array, index, value, axis) 若無指定axis，則多維陣列會扁平化ap2(12)\n",
        "\n",
        "#陣列中刪除資料(元素)\n",
        "ap4=np.delete(data5,1,1) # delete(array, index, axis)\n",
        "\n",
        "#print(ap1)\n",
        "\n",
        "aos=np.arange(12).reshape((3,2,2))\n",
        "print(aos)\n",
        "\n"
      ],
      "execution_count": 130,
      "outputs": [
        {
          "output_type": "stream",
          "text": [
            "[[ 2  4  5  3  7]\n",
            " [ 8  3 -1  3  2]\n",
            " [ 5  2  6 -1  1]]\n",
            "[[[ 0  1]\n",
            "  [ 2  3]]\n",
            "\n",
            " [[ 4  5]\n",
            "  [ 6  7]]\n",
            "\n",
            " [[ 8  9]\n",
            "  [10 11]]]\n"
          ],
          "name": "stdout"
        }
      ]
    },
    {
      "cell_type": "markdown",
      "metadata": {
        "id": "juf58_UGQWSe"
      },
      "source": [
        "###陣列合併\n"
      ]
    },
    {
      "cell_type": "markdown",
      "metadata": {
        "id": "jZG7HgcV0dtu"
      },
      "source": [
        "將數個多維陣列，合併成一個。\n",
        "![stack](https://miro.medium.com/max/875/0*ezTvkIMMC1QCodyA.png)\n",
        "![stack1](https://miro.medium.com/max/875/0*xGdZB-Wx-cnvubVv.png)"
      ]
    },
    {
      "cell_type": "code",
      "metadata": {
        "colab": {
          "base_uri": "https://localhost:8080/"
        },
        "id": "lqCMqxrAyWlB",
        "outputId": "5d86965b-bfee-459e-fc2b-4cb3dd3f8c6f"
      },
      "source": [
        "\n",
        "s=np.append(data5,data6,axis=0) # Size和Dimension需相同 axis=0，則axis=1的size需相同；axis=1，則axis=0的size`需相同。\n",
        "\n",
        "s1=np.vstack((data5,data6)) # 第一維度 (垂直方向合併)\n",
        "s2=np.concatenate((data5,data6),axis=0)\n",
        "\n",
        "s3=np.hstack((data5,data6)) # 第二維度 (水平方向合併)\n",
        "s4=np.concatenate((data5,data6),axis=1)\n",
        "\n",
        "print(s1)\n",
        "print(s3)"
      ],
      "execution_count": 153,
      "outputs": [
        {
          "output_type": "stream",
          "text": [
            "[[ 2  4  5  3]\n",
            " [ 8  3 -1  3]\n",
            " [ 5  2  6 -1]\n",
            " [ 8  3 -1 -3]\n",
            " [ 7  2 -5  3]\n",
            " [ 3  1  6  1]]\n",
            "[[ 2  4  5  3]\n",
            " [ 8  3 -1  3]\n",
            " [ 5  2  6 -1]\n",
            " [ 8  3 -1 -3]\n",
            " [ 7  2 -5  3]\n",
            " [ 3  1  6  1]]\n"
          ],
          "name": "stdout"
        }
      ]
    },
    {
      "cell_type": "markdown",
      "metadata": {
        "id": "-Oo3YTsIzUiI"
      },
      "source": [
        "## 切割(Splitting)"
      ]
    },
    {
      "cell_type": "markdown",
      "metadata": {
        "id": "pHGZJdnn0i9d"
      },
      "source": [
        "將一個多維陣列，分割成數個。\n",
        "![split](https://miro.medium.com/max/875/0*BgJKQ0muYYoCLCdT.png)\n",
        "![aplit1](https://miro.medium.com/max/875/0*pKUlcW7Rk5O4Ka54.png)"
      ]
    },
    {
      "cell_type": "code",
      "metadata": {
        "colab": {
          "base_uri": "https://localhost:8080/"
        },
        "id": "-nPGRBPUzZqN",
        "outputId": "d5774afa-6e77-45b4-a552-d69a8e134409"
      },
      "source": [
        "s5=np.vsplit(data5,3) #第一維度\n",
        "s6=np.split(data5,3,axis=0)\n",
        "\n",
        "s7=np.hsplit(data5,2) #第二維度\n",
        "s8=np.split(data5,2,axis=1)\n",
        "\n",
        "print(s5)\n",
        "print(s7)"
      ],
      "execution_count": 154,
      "outputs": [
        {
          "output_type": "stream",
          "text": [
            "[array([[2, 4, 5, 3]]), array([[ 8,  3, -1,  3]]), array([[ 5,  2,  6, -1]])]\n",
            "[array([[2, 4],\n",
            "       [8, 3],\n",
            "       [5, 2]]), array([[ 5,  3],\n",
            "       [-1,  3],\n",
            "       [ 6, -1]])]\n"
          ],
          "name": "stdout"
        }
      ]
    }
  ]
}